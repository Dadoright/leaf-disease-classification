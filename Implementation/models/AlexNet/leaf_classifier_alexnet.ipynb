{
 "cells": [
  {
   "cell_type": "code",
   "execution_count": 32,
   "id": "f619844e",
   "metadata": {},
   "outputs": [],
   "source": [
    "import os\n",
    "import numpy as np\n",
    "import shutil\n",
    "import random\n",
    "\n",
    "import tensorflow as tf\n",
    "import keras_preprocessing\n",
    "from keras_preprocessing import image\n",
    "from keras_preprocessing.image import ImageDataGenerator\n",
    "\n",
    "\n",
    "import matplotlib.pyplot as plt\n",
    "from tensorflow.keras import layers, models, losses"
   ]
  },
  {
   "cell_type": "code",
   "execution_count": 2,
   "id": "95655f6f",
   "metadata": {},
   "outputs": [],
   "source": [
    "#Organize Leaf data into train,validation and test directories\n",
    "os.chdir('dataset_classes')\n",
    "\n",
    "if os.path.isdir('train/0/') is False:\n",
    "    os.mkdir('train')\n",
    "    os.mkdir('validation')\n",
    "    os.mkdir('test')\n",
    "    \n",
    "    for i in range(0,5):\n",
    "        shutil.move(f'{i}','train')\n",
    "        os.mkdir(f'validation/{i}')\n",
    "        os.mkdir(f'test/{i}')\n",
    "        \n",
    "        validation_sample = random.sample(os.listdir(f'train/{i}'),159)\n",
    "        for j in validation_sample:\n",
    "            shutil.move(f'train/{i}/{j}',f'validation/{i}')\n",
    "        \n",
    "        test_sample = random.sample(os.listdir(f'train/{i}'),160)\n",
    "        for k in test_sample:\n",
    "            shutil.move(f'train/{i}/{k}',f'test/{i}')\n",
    "os.chdir('../..')"
   ]
  },
  {
   "cell_type": "code",
   "execution_count": 3,
   "id": "5e5fc36c",
   "metadata": {},
   "outputs": [
    {
     "name": "stdout",
     "output_type": "stream",
     "text": [
      "total training set1 images: 5\n"
     ]
    }
   ],
   "source": [
    "train_data_path = r\"E:\\Semester 6\\Project-Leaf_disease_classification\\dataset_classes\\train\"\n",
    "validation_data_path = r\"E:\\Semester 6\\Project-Leaf_disease_classification\\dataset_classes\\validation\"\n",
    "test_data_path = r\"E:\\Semester 6\\Project-Leaf_disease_classification\\dataset_classes\\test\"\n",
    "\n",
    "print('total training set1 images:', len(os.listdir(train_data_path)))"
   ]
  },
  {
   "cell_type": "code",
   "execution_count": 4,
   "id": "9804347c",
   "metadata": {},
   "outputs": [],
   "source": [
    "#TRAINING_DIR = r\"E:\\Semester 6\\Project-Leaf_disease_classification\\dataset_classes\\train\"\n",
    "training_datagen = ImageDataGenerator(\n",
    "                        rescale = 1./255)\n",
    "\n",
    "\n",
    "#VALIDATION_DIR = r\"E:\\Semester 6\\Project-Leaf_disease_classification\\dataset_classes\\validation\"\n",
    "validation_datagen = ImageDataGenerator(rescale = 1./255)\n"
   ]
  },
  {
   "cell_type": "code",
   "execution_count": 5,
   "id": "bf3a958a",
   "metadata": {},
   "outputs": [
    {
     "name": "stdout",
     "output_type": "stream",
     "text": [
      "Found 6360 images belonging to 5 classes.\n",
      "Found 795 images belonging to 5 classes.\n"
     ]
    }
   ],
   "source": [
    "train_generator = training_datagen.flow_from_directory(\n",
    "    train_data_path,\n",
    "    target_size=(224,224),\n",
    "    class_mode='categorical',\n",
    "    batch_size=32\n",
    ")\n",
    "\n",
    "validation_generator = validation_datagen.flow_from_directory(\n",
    "    validation_data_path,\n",
    "    target_size=(224,224),\n",
    "    class_mode='categorical',\n",
    "    batch_size=32\n",
    ")"
   ]
  },
  {
   "cell_type": "code",
   "execution_count": 6,
   "id": "92d4812c",
   "metadata": {},
   "outputs": [],
   "source": [
    "import math\n",
    "\n",
    "BATCH_SIZE=32\n",
    "\n",
    "TRAINING_SIZE = 6360\n",
    "\n",
    "VALIDATION_SIZE = 795\n",
    "\n",
    "# We take the ceiling because we do not drop the remainder of the batch\n",
    "compute_steps_per_epoch = lambda x: int(math.ceil(1. * x / BATCH_SIZE))\n",
    "\n",
    "steps_per_epoch = compute_steps_per_epoch(TRAINING_SIZE)\n",
    "val_steps = compute_steps_per_epoch(VALIDATION_SIZE)"
   ]
  },
  {
   "cell_type": "code",
   "execution_count": 35,
   "id": "4fdd7cf3",
   "metadata": {},
   "outputs": [],
   "source": [
    "initializer = tf.keras.initializers.HeNormal()\n"
   ]
  },
  {
   "cell_type": "code",
   "execution_count": 38,
   "id": "63e23a4c",
   "metadata": {},
   "outputs": [],
   "source": [
    "model = tf.keras.models.Sequential([\n",
    "        # Here, we use a larger 11 x 11 window to capture objects. At the same\n",
    "        # time, we use a stride of 4 to greatly reduce the height and width of\n",
    "        # the output. Here, the number of output channels is much larger than\n",
    "        # that in LeNet\n",
    "        tf.keras.layers.Conv2D(filters=96, kernel_size=11,kernel_initializer=initializer, strides=4,\n",
    "                               activation='relu',input_shape = (224,224,3)),\n",
    "        tf.keras.layers.MaxPool2D(pool_size=3, strides=2),\n",
    "        # Make the convolution window smaller, set padding to 2 for consistent\n",
    "        # height and width across the input and output, and increase the\n",
    "        # number of output channels\n",
    "        tf.keras.layers.Conv2D(filters=256, kernel_size=5, padding='same',\n",
    "                               activation='relu'),\n",
    "        tf.keras.layers.MaxPool2D(pool_size=3, strides=2),\n",
    "        # Use three successive convolutional layers and a smaller convolution\n",
    "        # window. Except for the final convolutional layer, the number of\n",
    "        # output channels is further increased. Pooling layers are not used to\n",
    "        # reduce the height and width of input after the first two\n",
    "        # convolutional layers\n",
    "        tf.keras.layers.Conv2D(filters=384, kernel_size=3, padding='same',\n",
    "                               activation='relu'),\n",
    "        tf.keras.layers.Conv2D(filters=384, kernel_size=3, padding='same',\n",
    "                               activation='relu'),\n",
    "        tf.keras.layers.Conv2D(filters=256, kernel_size=3, padding='same',\n",
    "                               activation='relu'),\n",
    "        tf.keras.layers.MaxPool2D(pool_size=3, strides=2),\n",
    "        tf.keras.layers.Flatten(),\n",
    "        # Here, the number of outputs of the fully-connected layer is several\n",
    "        # times larger than that in LeNet. Use the dropout layer to mitigate\n",
    "        # overfitting\n",
    "        tf.keras.layers.Dense(4096, activation='relu'),\n",
    "        tf.keras.layers.Dropout(0.5),\n",
    "        tf.keras.layers.Dense(4096, activation='relu'),\n",
    "        tf.keras.layers.Dropout(0.5),\n",
    "        # Output layer. Since we are using Fashion-MNIST, the number of\n",
    "        # classes is 10, instead of 1000 as in the paper\n",
    "        tf.keras.layers.Dense(5,activation='softmax')])\n"
   ]
  },
  {
   "cell_type": "code",
   "execution_count": 39,
   "id": "697891d9",
   "metadata": {},
   "outputs": [
    {
     "name": "stdout",
     "output_type": "stream",
     "text": [
      "Model: \"sequential_8\"\n",
      "_________________________________________________________________\n",
      "Layer (type)                 Output Shape              Param #   \n",
      "=================================================================\n",
      "conv2d_35 (Conv2D)           (None, 54, 54, 96)        34944     \n",
      "_________________________________________________________________\n",
      "max_pooling2d_21 (MaxPooling (None, 26, 26, 96)        0         \n",
      "_________________________________________________________________\n",
      "conv2d_36 (Conv2D)           (None, 26, 26, 256)       614656    \n",
      "_________________________________________________________________\n",
      "max_pooling2d_22 (MaxPooling (None, 12, 12, 256)       0         \n",
      "_________________________________________________________________\n",
      "conv2d_37 (Conv2D)           (None, 12, 12, 384)       885120    \n",
      "_________________________________________________________________\n",
      "conv2d_38 (Conv2D)           (None, 12, 12, 384)       1327488   \n",
      "_________________________________________________________________\n",
      "conv2d_39 (Conv2D)           (None, 12, 12, 256)       884992    \n",
      "_________________________________________________________________\n",
      "max_pooling2d_23 (MaxPooling (None, 5, 5, 256)         0         \n",
      "_________________________________________________________________\n",
      "flatten_4 (Flatten)          (None, 6400)              0         \n",
      "_________________________________________________________________\n",
      "dense_12 (Dense)             (None, 4096)              26218496  \n",
      "_________________________________________________________________\n",
      "dropout_8 (Dropout)          (None, 4096)              0         \n",
      "_________________________________________________________________\n",
      "dense_13 (Dense)             (None, 4096)              16781312  \n",
      "_________________________________________________________________\n",
      "dropout_9 (Dropout)          (None, 4096)              0         \n",
      "_________________________________________________________________\n",
      "dense_14 (Dense)             (None, 5)                 20485     \n",
      "=================================================================\n",
      "Total params: 46,767,493\n",
      "Trainable params: 46,767,493\n",
      "Non-trainable params: 0\n",
      "_________________________________________________________________\n"
     ]
    }
   ],
   "source": [
    "model.summary()"
   ]
  },
  {
   "cell_type": "code",
   "execution_count": 40,
   "id": "7152e770",
   "metadata": {},
   "outputs": [],
   "source": [
    "optimizer = tf.keras.optimizers.Adam(lr=0.0001)\n",
    "\n",
    "model.compile(loss = 'categorical_crossentropy', optimizer=optimizer, metrics=['accuracy'])"
   ]
  },
  {
   "cell_type": "code",
   "execution_count": 42,
   "id": "1d63eff5",
   "metadata": {},
   "outputs": [
    {
     "name": "stdout",
     "output_type": "stream",
     "text": [
      "Epoch 1/15\n",
      "199/199 [==============================] - 656s 3s/step - loss: 0.9436 - accuracy: 0.6044 - val_loss: 0.4008 - val_accuracy: 0.8579\n",
      "Epoch 2/15\n",
      "199/199 [==============================] - 550s 3s/step - loss: 0.3953 - accuracy: 0.8553 - val_loss: 0.2533 - val_accuracy: 0.9132\n",
      "Epoch 3/15\n",
      "199/199 [==============================] - 518s 3s/step - loss: 0.2458 - accuracy: 0.9167 - val_loss: 0.1900 - val_accuracy: 0.9258\n",
      "Epoch 4/15\n",
      "199/199 [==============================] - 504s 3s/step - loss: 0.1958 - accuracy: 0.9299 - val_loss: 0.1765 - val_accuracy: 0.9358\n",
      "Epoch 5/15\n",
      "199/199 [==============================] - 504s 3s/step - loss: 0.1324 - accuracy: 0.9525 - val_loss: 0.1434 - val_accuracy: 0.9472\n",
      "Epoch 6/15\n",
      "199/199 [==============================] - 505s 3s/step - loss: 0.1116 - accuracy: 0.9629 - val_loss: 0.1010 - val_accuracy: 0.9585\n",
      "Epoch 7/15\n",
      "199/199 [==============================] - 503s 3s/step - loss: 0.0734 - accuracy: 0.9750 - val_loss: 0.1819 - val_accuracy: 0.9296\n",
      "Epoch 8/15\n",
      "199/199 [==============================] - 503s 3s/step - loss: 0.0969 - accuracy: 0.9643 - val_loss: 0.0932 - val_accuracy: 0.9723\n",
      "Epoch 9/15\n",
      "199/199 [==============================] - 504s 3s/step - loss: 0.0623 - accuracy: 0.9786 - val_loss: 0.1145 - val_accuracy: 0.9522\n",
      "Epoch 10/15\n",
      "199/199 [==============================] - 504s 3s/step - loss: 0.0462 - accuracy: 0.9840 - val_loss: 0.0939 - val_accuracy: 0.9660\n",
      "Epoch 11/15\n",
      "199/199 [==============================] - 505s 3s/step - loss: 0.0574 - accuracy: 0.9802 - val_loss: 0.0776 - val_accuracy: 0.9686\n",
      "Epoch 12/15\n",
      "199/199 [==============================] - 503s 3s/step - loss: 0.0420 - accuracy: 0.9849 - val_loss: 0.0757 - val_accuracy: 0.9698\n",
      "Epoch 13/15\n",
      "199/199 [==============================] - 504s 3s/step - loss: 0.0302 - accuracy: 0.9901 - val_loss: 0.0664 - val_accuracy: 0.9786\n",
      "Epoch 14/15\n",
      "199/199 [==============================] - 503s 3s/step - loss: 0.0353 - accuracy: 0.9874 - val_loss: 0.0791 - val_accuracy: 0.9748\n",
      "Epoch 15/15\n",
      "199/199 [==============================] - 504s 3s/step - loss: 0.0127 - accuracy: 0.9961 - val_loss: 0.1086 - val_accuracy: 0.9686\n"
     ]
    }
   ],
   "source": [
    "history = model.fit(\n",
    "    train_generator, \n",
    "    epochs=15, \n",
    "    steps_per_epoch=steps_per_epoch, \n",
    "    validation_data = validation_generator,\n",
    "    verbose = 1,\n",
    "    validation_steps=val_steps)"
   ]
  },
  {
   "cell_type": "code",
   "execution_count": 43,
   "id": "ed6a160d",
   "metadata": {},
   "outputs": [
    {
     "name": "stdout",
     "output_type": "stream",
     "text": [
      "WARNING:tensorflow:From E:\\Ananconda\\envs\\tensorflow_cpu_env\\lib\\site-packages\\tensorflow\\python\\training\\tracking\\tracking.py:111: Model.state_updates (from tensorflow.python.keras.engine.training) is deprecated and will be removed in a future version.\n",
      "Instructions for updating:\n",
      "This property should not be used in TensorFlow 2.0, as updates are applied automatically.\n",
      "WARNING:tensorflow:From E:\\Ananconda\\envs\\tensorflow_cpu_env\\lib\\site-packages\\tensorflow\\python\\training\\tracking\\tracking.py:111: Layer.updates (from tensorflow.python.keras.engine.base_layer) is deprecated and will be removed in a future version.\n",
      "Instructions for updating:\n",
      "This property should not be used in TensorFlow 2.0, as updates are applied automatically.\n",
      "INFO:tensorflow:Assets written to: saved_model/model_Alexnet_test1\\assets\n"
     ]
    }
   ],
   "source": [
    "#!mkdir -p saved_model\n",
    "model.save('saved_model/model_Alexnet_test1')"
   ]
  },
  {
   "cell_type": "code",
   "execution_count": 44,
   "id": "727deee8",
   "metadata": {},
   "outputs": [
    {
     "data": {
      "image/png": "[encoded data removed]",
      "text/plain": [
       "<Figure size 1080x1080 with 2 Axes>"
      ]
     },
     "metadata": {
      "needs_background": "light"
     },
     "output_type": "display_data"
    }
   ],
   "source": [
    "%matplotlib inline\n",
    "\n",
    "import matplotlib.pyplot as plt\n",
    "import matplotlib.image as mpimg\n",
    "\n",
    "acc = history.history['accuracy']\n",
    "val_acc = history.history['val_accuracy']\n",
    "loss = history.history['loss']\n",
    "val_loss = history.history['val_loss']\n",
    "epochs_range = range(15)\n",
    "\n",
    "plt.figure(figsize=(15, 15))\n",
    "plt.subplot(2, 2, 1)\n",
    "plt.plot(epochs_range, acc, label='Training Accuracy')\n",
    "plt.plot(epochs_range, val_acc, label='Validation Accuracy')\n",
    "plt.legend(loc='lower right')\n",
    "plt.title('Training and Validation Accuracy')\n",
    "\n",
    "plt.subplot(2, 2, 2)\n",
    "plt.plot(epochs_range, loss, label='Training Loss')\n",
    "plt.plot(epochs_range, val_loss, label='Validation Loss')\n",
    "plt.legend(loc='upper right')\n",
    "plt.title('Training and Validation Loss')\n",
    "plt.show()"
   ]
  },
  {
   "cell_type": "code",
   "execution_count": 45,
   "id": "3add0e78",
   "metadata": {},
   "outputs": [],
   "source": [
    "from sklearn.metrics import confusion_matrix,classification_report\n",
    "import itertools"
   ]
  },
  {
   "cell_type": "code",
   "execution_count": 46,
   "id": "b4f4f2db",
   "metadata": {},
   "outputs": [
    {
     "name": "stdout",
     "output_type": "stream",
     "text": [
      "Found 800 images belonging to 5 classes.\n"
     ]
    }
   ],
   "source": [
    "#test_datagen = ImageDataGenerator()\n",
    "test_datagen = ImageDataGenerator(rescale = 1./255)\n",
    "\n",
    "\n",
    "test_generator = test_datagen.flow_from_directory(\n",
    "    test_data_path,\n",
    "    target_size=(224,224),\n",
    "    batch_size=32,\n",
    "    class_mode='categorical',\n",
    "    shuffle=False)"
   ]
  },
  {
   "cell_type": "code",
   "execution_count": 47,
   "id": "2ab9c061",
   "metadata": {},
   "outputs": [],
   "source": [
    "target_names = ['Bacterial_spot(Class 0)','Healthy(Class 1)','Late_blight(Class 2)','Septoria_leaf_spot(Class 3)','Yellow_curl_virus(Class 4)']"
   ]
  },
  {
   "cell_type": "code",
   "execution_count": 48,
   "id": "9273a038",
   "metadata": {},
   "outputs": [],
   "source": [
    "def plot_confusion_matrix(cm, classes, normalize=False, title='Confusion matrix', cmap=plt.cm.Blues):\n",
    "\n",
    "    \"\"\"\n",
    "    This function prints and plots the confusion matrix.\n",
    "    Normalization can be applied by setting `normalize=True`.\n",
    "    \"\"\"\n",
    "\n",
    "    plt.figure(figsize=(10,10))\n",
    "\n",
    "\n",
    "    plt.imshow(cm, interpolation='nearest', cmap=cmap)\n",
    "    plt.title(title)\n",
    "    plt.colorbar()\n",
    "\n",
    "\n",
    "    tick_marks = np.arange(len(classes))\n",
    "    plt.xticks(tick_marks, classes, rotation=45)\n",
    "    plt.yticks(tick_marks, classes)\n",
    "\n",
    "\n",
    "    if normalize:\n",
    "\n",
    "        cm = cm.astype('float') / cm.sum(axis=1)[:, np.newaxis]\n",
    "        cm = np.around(cm, decimals=2)\n",
    "        cm[np.isnan(cm)] = 0.0\n",
    "        print(\"Normalized confusion matrix\")\n",
    "\n",
    "    else:\n",
    "        print('Confusion matrix, without normalization')\n",
    "    thresh = cm.max() / 2.\n",
    "\n",
    "    for i, j in itertools.product(range(cm.shape[0]), range(cm.shape[1])):\n",
    "\n",
    "        plt.text(j, i, cm[i, j],\n",
    "        horizontalalignment=\"center\",\n",
    "        color=\"white\" if cm[i, j] > thresh else \"black\")\n",
    "\n",
    "    plt.tight_layout()\n",
    "    plt.ylabel('True label')\n",
    "    plt.xlabel('Predicted label')"
   ]
  },
  {
   "cell_type": "code",
   "execution_count": 49,
   "id": "b41ebbcd",
   "metadata": {},
   "outputs": [
    {
     "name": "stdout",
     "output_type": "stream",
     "text": [
      "Confusion matrix, without normalization\n"
     ]
    },
    {
     "data": {
      "image/png": "[encoded data removed]",
      "text/plain": [
       "<Figure size 720x720 with 2 Axes>"
      ]
     },
     "metadata": {
      "needs_background": "light"
     },
     "output_type": "display_data"
    }
   ],
   "source": [
    "#Confution Matrix \n",
    "\n",
    "Y_pred = model.predict(test_generator)\n",
    "y_pred = np.argmax(Y_pred, axis=1)\n",
    "cm = confusion_matrix(test_generator.classes, y_pred)\n",
    "\n",
    "plot_confusion_matrix(cm, target_names, title='Confusion Matrix')\n"
   ]
  },
  {
   "cell_type": "code",
   "execution_count": 50,
   "id": "333414e6",
   "metadata": {},
   "outputs": [
    {
     "name": "stdout",
     "output_type": "stream",
     "text": [
      "Classification Report\n",
      "                             precision    recall  f1-score   support\n",
      "\n",
      "    Bacterial_spot(Class 0)       0.98      0.93      0.96       160\n",
      "           Healthy(Class 1)       0.98      0.98      0.98       160\n",
      "       Late_blight(Class 2)       0.94      0.90      0.92       160\n",
      "Septoria_leaf_spot(Class 3)       0.88      0.97      0.93       160\n",
      " Yellow_curl_virus(Class 4)       1.00      0.98      0.99       160\n",
      "\n",
      "                   accuracy                           0.95       800\n",
      "                  macro avg       0.96      0.95      0.95       800\n",
      "               weighted avg       0.96      0.95      0.95       800\n",
      "\n"
     ]
    }
   ],
   "source": [
    "#Print Classification Report\n",
    "\n",
    "print('Classification Report')\n",
    "\n",
    "print(classification_report(test_generator.classes, y_pred, target_names=target_names))"
   ]
  },
  {
   "cell_type": "code",
   "execution_count": 51,
   "id": "0e97bfe6",
   "metadata": {},
   "outputs": [
    {
     "name": "stdout",
     "output_type": "stream",
     "text": [
      "25/25 [==============================] - 12s 488ms/step - loss: 0.1654 - accuracy: 0.9538\n"
     ]
    },
    {
     "data": {
      "text/plain": [
       "[0.1653633862733841, 0.9537500143051147]"
      ]
     },
     "execution_count": 51,
     "metadata": {},
     "output_type": "execute_result"
    }
   ],
   "source": [
    "model.evaluate(test_generator)"
   ]
  },
  {
   "cell_type": "code",
   "execution_count": null,
   "id": "c09cebaf",
   "metadata": {},
   "outputs": [],
   "source": []
  }
 ],
 "metadata": {
  "kernelspec": {
   "display_name": "Python 3",
   "language": "python",
   "name": "python3"
  },
  "language_info": {
   "codemirror_mode": {
    "name": "ipython",
    "version": 3
   },
   "file_extension": ".py",
   "mimetype": "text/x-python",
   "name": "python",
   "nbconvert_exporter": "python",
   "pygments_lexer": "ipython3",
   "version": "3.8.10"
  }
 },
 "nbformat": 4,
 "nbformat_minor": 5
}
